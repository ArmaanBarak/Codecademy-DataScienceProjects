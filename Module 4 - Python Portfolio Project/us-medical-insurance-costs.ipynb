{
 "cells": [
  {
   "cell_type": "markdown",
   "metadata": {},
   "source": [
    "# U.S. Medical Insurance Costs"
   ]
  },
  {
   "cell_type": "code",
   "execution_count": 1,
   "metadata": {},
   "outputs": [],
   "source": [
    "# Module imports\n",
    "import csv"
   ]
  },
  {
   "cell_type": "code",
   "execution_count": 2,
   "metadata": {},
   "outputs": [],
   "source": [
    "# Lists variables\n",
    "ages = []\n",
    "sexes = []\n",
    "bmis = []\n",
    "num_children = []\n",
    "smoker_status = []\n",
    "regions = []\n",
    "insurance_costs = []"
   ]
  },
  {
   "cell_type": "code",
   "execution_count": 3,
   "metadata": {
    "scrolled": false
   },
   "outputs": [],
   "source": [
    "# Function for filling the lists\n",
    "def add_values(lst, lst_name):\n",
    "    with open(\"insurance.csv\") as insurance_file:\n",
    "        insurance_reader = csv.DictReader(insurance_file)\n",
    "        for row in insurance_reader:\n",
    "            lst.append(row[lst_name])\n",
    "\n",
    "\n",
    "# Updating data lists\n",
    "add_values(ages, \"age\")\n",
    "add_values(sexes, \"sex\")\n",
    "add_values(bmis, \"bmi\")\n",
    "add_values(num_children, \"children\")\n",
    "add_values(smoker_status, \"smoker\")\n",
    "add_values(regions, \"region\")\n",
    "add_values(insurance_costs, \"charges\")"
   ]
  },
  {
   "cell_type": "code",
   "execution_count": 4,
   "metadata": {},
   "outputs": [
    {
     "name": "stdout",
     "output_type": "stream",
     "text": [
      "The average age of patients is 39.21 years.\n"
     ]
    }
   ],
   "source": [
    "### Data Analysis 1: Average Age of patients\n",
    "\n",
    "def find_average_age(ages):\n",
    "    \n",
    "    # Calculating average age and printing formatted string\n",
    "    total_age = sum([int(age) for age in ages])\n",
    "    average_age = total_age / len(ages)\n",
    "    \n",
    "    print(f\"The average age of patients is {round(average_age, 2)} years.\")\n",
    "\n",
    "# Function Test\n",
    "find_average_age(ages)"
   ]
  },
  {
   "cell_type": "code",
   "execution_count": 5,
   "metadata": {},
   "outputs": [
    {
     "name": "stdout",
     "output_type": "stream",
     "text": [
      "There are 324 patients from northeast region.\n",
      "There are 325 patients from northwest region.\n",
      "There are 364 patients from southeast region.\n",
      "There are 325 patients from southwest region.\n"
     ]
    }
   ],
   "source": [
    "### Data Analysis 2: From where majority of patients are\n",
    "\n",
    "def find_region_frequency(regions):\n",
    "    \n",
    "    # Finding all regions in data\n",
    "    region_names = set(regions)\n",
    "\n",
    "    # Making a dict with key as region names and value as num of patient from that particular region using dict comprehension\n",
    "    region_frequency = {name: regions.count(name) for name in region_names}\n",
    "\n",
    "    # Sorting and Printing out the data\n",
    "    for region in sorted(region_frequency.keys()):\n",
    "        print(f\"There are {region_frequency[region]} patients from {region} region.\")\n",
    "\n",
    "# Function Test\n",
    "find_region_frequency(regions)"
   ]
  },
  {
   "cell_type": "code",
   "execution_count": 6,
   "metadata": {},
   "outputs": [
    {
     "name": "stdout",
     "output_type": "stream",
     "text": [
      "There are 274 smokers and 1064 non-smoker patients\n",
      "The number of non-smokers is higher than number of smokers by a difference of 790 patients.\n"
     ]
    }
   ],
   "source": [
    "### Data Analysis 3: Finding Num of Smokers and Non-smokers\n",
    "\n",
    "def find_smokers(smoker_status):\n",
    "    \n",
    "    # Storing num of smokers and non smokers\n",
    "    num_smoker = smoker_status.count(\"yes\")\n",
    "    num_non_smoker = smoker_status.count(\"no\")\n",
    "    \n",
    "    # Printing formatted text for user\n",
    "    print(f\"There are {num_smoker} smokers and {num_non_smoker} non-smoker patients\")\n",
    "    \n",
    "    if num_smoker > num_non_smoker:\n",
    "        print(f\"The number of smokers is higher than number of non-smokers by a difference of {num_smoker - num_non_smoker} patients.\")\n",
    "    elif num_smoker < num_non_smoker:\n",
    "        print(f\"The number of non-smokers is higher than number of smokers by a difference of {num_non_smoker - num_smoker} patients.\")\n",
    "    else:\n",
    "        print(\"The number of smokers and non-smokers is equal.\")\n",
    "    \n",
    "# Function Test\n",
    "find_smokers(smoker_status)"
   ]
  },
  {
   "cell_type": "code",
   "execution_count": 7,
   "metadata": {},
   "outputs": [
    {
     "name": "stdout",
     "output_type": "stream",
     "text": [
      "There are 676 males and 662 females.\n",
      "14 more males than females.\n",
      "Data does't accounts for other sex categories.\n"
     ]
    }
   ],
   "source": [
    "### Data Analysis 4: Finding num of males and females\n",
    "\n",
    "def male_vs_female(sexes):\n",
    "    \n",
    "    # Counting males, females and difference between there numbers\n",
    "    num_males = sexes.count(\"male\")\n",
    "    num_females = sexes.count(\"female\")\n",
    "    diff = abs(num_males - num_females)\n",
    "    \n",
    "    \n",
    "    \n",
    "    print(f\"There are {num_males} males and {num_females} females.\")\n",
    "    \n",
    "    if num_males > num_females:\n",
    "        print(f\"{diff} more males than females.\")\n",
    "    elif num_males < num_females:\n",
    "        print(f\"{diff} more females than males.\")\n",
    "    else:\n",
    "        print(\"Males and females equal in number.\")\n",
    "    \n",
    "    if diff >= 100:\n",
    "        print(\"Data Might Be Biased.\")\n",
    "        \n",
    "    if len(set(sexes)) <= 2:\n",
    "        print(\"Data does't accounts for other sex categories.\")\n",
    "\n",
    "# Function Test\n",
    "male_vs_female(sexes)"
   ]
  },
  {
   "cell_type": "code",
   "execution_count": 8,
   "metadata": {},
   "outputs": [
    {
     "name": "stdout",
     "output_type": "stream",
     "text": [
      "The Average insurance cost is 13270.42 dollars.\n"
     ]
    },
    {
     "data": {
      "text/plain": [
       "13270.422265141257"
      ]
     },
     "execution_count": 8,
     "metadata": {},
     "output_type": "execute_result"
    }
   ],
   "source": [
    "### Data Analysis 5: Calculating average insurance cost\n",
    "\n",
    "def average_cost(insurance_costs):\n",
    "    total_cost = sum([float(i) for i in insurance_costs])\n",
    "    average_cost = total_cost / len(insurance_costs)\n",
    "    print(f\"The Average insurance cost is {round(average_cost, 2)} dollars.\")\n",
    "    return average_cost\n",
    "\n",
    "# Function Test\n",
    "average_cost(insurance_costs)"
   ]
  },
  {
   "cell_type": "code",
   "execution_count": 9,
   "metadata": {},
   "outputs": [
    {
     "name": "stdout",
     "output_type": "stream",
     "text": [
      "Minimum insurance cost is: 1121.8739 \n",
      "Maximum insurance cost is: 63770.42801\n",
      "The Average insurance cost is 13270.42 dollars.\n",
      "The Mean Deviation by Mean for the given insurance costs is: 9091.13 dollars.\n"
     ]
    }
   ],
   "source": [
    "### Data Analysis 6: Calculating min and max insurance cost and Mean Deviation by Mean of the given data\n",
    "\n",
    "def min_and_max_cost(insurance_costs):\n",
    "    insurance_costs = [float(i) for i in insurance_costs]\n",
    "    min_cost = min(insurance_costs)\n",
    "    max_cost = max(insurance_costs)\n",
    "    print(f\"Minimum insurance cost is: {min_cost} \\nMaximum insurance cost is: {max_cost}\")\n",
    "\n",
    "def deviation_by_mean(insurance_costs):\n",
    "    mean = average_cost(insurance_costs)\n",
    "    insurance_costs = [float(i) for i in insurance_costs]\n",
    "    data_diff = [abs(x - mean) for x in insurance_costs]\n",
    "    \n",
    "    deviation = sum(data_diff) / len(insurance_costs)\n",
    "    \n",
    "    print(f\"The Mean Deviation by Mean for the given insurance costs is: {round(deviation, 2)} dollars.\")\n",
    "    \n",
    "# Function Test\n",
    "min_and_max_cost(insurance_costs)\n",
    "deviation_by_mean(insurance_costs)"
   ]
  },
  {
   "cell_type": "code",
   "execution_count": 10,
   "metadata": {},
   "outputs": [
    {
     "name": "stdout",
     "output_type": "stream",
     "text": [
      "The Average BMI is 30.66\n",
      "Minimum BMI is: 15.96 \n",
      "Maximum BMI is: 53.13\n"
     ]
    }
   ],
   "source": [
    "### Data Analysis 7: Average BMI and min max bmis\n",
    "\n",
    "def average_bmi(bmis):\n",
    "    total_bmi = sum([float(i) for i in bmis])\n",
    "    average_bmi = total_bmi / len(bmis)\n",
    "    print(f\"The Average BMI is {round(average_bmi, 2)}\")\n",
    "    return average_bmi\n",
    "\n",
    "def min_max_bmi(bmis):\n",
    "    bmis = [float(i) for i in bmis]\n",
    "    min_bmi = min(bmis)\n",
    "    max_bmi = max(bmis)\n",
    "    print(f\"Minimum BMI is: {min_bmi} \\nMaximum BMI is: {max_bmi}\")\n",
    "\n",
    "# Function Test\n",
    "average_bmi(bmis)\n",
    "min_max_bmi(bmis)"
   ]
  },
  {
   "cell_type": "code",
   "execution_count": 11,
   "metadata": {},
   "outputs": [
    {
     "name": "stdout",
     "output_type": "stream",
     "text": [
      "There are 1091 over weight patients and 15 under weight patients.\n",
      "To many over weight patients.\n",
      "More number of over weight patients.\n"
     ]
    }
   ],
   "source": [
    "### Data Analysis 8: Finding if there is more overwweight or more underweight patients\n",
    "\n",
    "def find_weight_distribution(bmis):\n",
    "    \n",
    "    # Calculating Data\n",
    "    bmis = [float(i) for i in bmis]\n",
    "    over_weight = [i for i in bmis if i > 25]\n",
    "    under_weight = [i for i in bmis if i < 18]\n",
    "    num_over_weight = len(over_weight)\n",
    "    num_under_weight = len(under_weight)\n",
    "    diff = abs(num_over_weight - num_under_weight)\n",
    "    \n",
    "    # Printing formatted text\n",
    "    print(f\"There are {num_over_weight} over weight patients and {num_under_weight} under weight patients.\")\n",
    "    \n",
    "    if num_over_weight > num_under_weight:\n",
    "        \n",
    "        if diff > 100:\n",
    "            print(\"To many over weight patients.\")\n",
    "            \n",
    "        print(\"More number of over weight patients.\")\n",
    "        \n",
    "    elif num_over_weight == num_under_weight:\n",
    "        \n",
    "        print(\"Equal number of over weight and under weight patients.\")\n",
    "    \n",
    "    else:\n",
    "        \n",
    "        if diff > 100:\n",
    "            print(\"To many under weight patients.\")\n",
    "            \n",
    "        print(\"More number of under weight patients.\")\n",
    "\n",
    "# Function Test\n",
    "find_weight_distribution(bmis)"
   ]
  },
  {
   "cell_type": "markdown",
   "metadata": {},
   "source": [
    "---\n",
    "## Project Conclusion:\n",
    "\n",
    "These were some implementations of data analysis ideas which came in my mind at the time of completion of this project. There are endless things to analyse from the given data file.\n",
    "\n",
    "Right now I have implemented 10 functions for the given data. \n",
    "\n",
    "Code reviews or further extension ideas are welcomed!\n",
    "\n",
    "Mail on: armaanbarak@outlook.com\n",
    "\n",
    "Alternatively, reply on the respective GitHub id or Codecademy id: Armaan_Barak\n",
    "\n",
    "* * *"
   ]
  },
  {
   "cell_type": "code",
   "execution_count": null,
   "metadata": {},
   "outputs": [],
   "source": []
  }
 ],
 "metadata": {
  "kernelspec": {
   "display_name": "Python 3",
   "language": "python",
   "name": "python3"
  },
  "language_info": {
   "codemirror_mode": {
    "name": "ipython",
    "version": 3
   },
   "file_extension": ".py",
   "mimetype": "text/x-python",
   "name": "python",
   "nbconvert_exporter": "python",
   "pygments_lexer": "ipython3",
   "version": "3.8.3"
  }
 },
 "nbformat": 4,
 "nbformat_minor": 4
}
